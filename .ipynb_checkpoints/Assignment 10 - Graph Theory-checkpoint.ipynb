{
 "metadata": {
  "name": "",
  "signature": "sha256:c00f6d0680bfb0ebd90e566b9650880a87f15b31e88c798ce4c1378132b8a860"
 },
 "nbformat": 3,
 "nbformat_minor": 0,
 "worksheets": []
}