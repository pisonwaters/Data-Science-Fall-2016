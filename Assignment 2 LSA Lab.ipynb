{
 "metadata": {
  "name": "",
  "signature": "sha256:80179476e2527989f2d673079be9e91174621a366a38ec5cb91f597220aa8327"
 },
 "nbformat": 3,
 "nbformat_minor": 0,
 "worksheets": [
  {
   "cells": [
    {
     "cell_type": "code",
     "collapsed": false,
     "input": [
      "    from bs4 import BeautifulSoup\n",
      "    import nltk\n",
      "    from nltk.corpus import stopwords\n",
      "    from sklearn.feature_extraction.text import TfidfVectorizer\n",
      "    from sklearn.decomposition import TruncatedSVD"
     ],
     "language": "python",
     "metadata": {},
     "outputs": [],
     "prompt_number": 1
    },
    {
     "cell_type": "code",
     "collapsed": false,
     "input": [
      "nltk.download('stopwords')"
     ],
     "language": "python",
     "metadata": {},
     "outputs": [
      {
       "output_type": "stream",
       "stream": "stdout",
       "text": [
        "[nltk_data] Downloading package stopwords to\n",
        "[nltk_data]     /Users/pisonwaters/nltk_data...\n",
        "[nltk_data]   Unzipping corpora/stopwords.zip."
       ]
      },
      {
       "output_type": "stream",
       "stream": "stdout",
       "text": [
        "\n"
       ]
      },
      {
       "metadata": {},
       "output_type": "pyout",
       "prompt_number": 2,
       "text": [
        "True"
       ]
      }
     ],
     "prompt_number": 2
    },
    {
     "cell_type": "code",
     "collapsed": false,
     "input": [
      "from sklearn.datasets import fetch_20newsgroups\n",
      "categories = ['rec.sport.baseball']\n",
      "dataset = fetch_20newsgroups(subset='all',shuffle=True, random_state=42, categories=categories)\n",
      "corpus = dataset.data"
     ],
     "language": "python",
     "metadata": {},
     "outputs": [],
     "prompt_number": 3
    },
    {
     "cell_type": "code",
     "collapsed": false,
     "input": [
      "#posts = ['Users/pisonwaters/Downloads/20news-bydate (1) 2/20news-bydate-train/rec.sport.baseball']"
     ],
     "language": "python",
     "metadata": {},
     "outputs": [],
     "prompt_number": 4
    },
    {
     "cell_type": "code",
     "collapsed": false,
     "input": [
      "stopset = set(stopwords.words('english'))\n",
      "stopset.update(['lt','p','/p','br','amp','quot','field','font','normal','span','0px','rgb','style','51', \n",
      "                 'spacing','text','helvetica','size','family', 'space', 'arial', 'height', 'indent', 'letter',\n",
      "                     'line','none','sans','serif','transform','line','variant','weight','times', 'new','strong', 'video', 'title',\n",
      "                   'white','word','letter', 'roman','0pt','16','color','12','14','21', 'neue', 'apple', 'class', '93', 'it', 'ndo', 're', 'cs', 'ca', '00','11', 'nntp', 'edu', 'com', '000','10', 'ibm' ])\n",
      "     "
     ],
     "language": "python",
     "metadata": {},
     "outputs": [],
     "prompt_number": 5
    },
    {
     "cell_type": "code",
     "collapsed": false,
     "input": [
      "corpus[0]"
     ],
     "language": "python",
     "metadata": {},
     "outputs": [
      {
       "metadata": {},
       "output_type": "pyout",
       "prompt_number": 6,
       "text": [
        "u\"From: writingctr@leo.bsuvc.bsu.edu\\nSubject: Re: CUB fever.\\nOrganization: Ball State University, Muncie, In - Univ. Computing Svc's\\nLines: 21\\n\\n\\nIn article <kingoz.735285670@camelot>, kingoz@camelot.bradley.edu (Orin Roth) writes:\\n> \\n>    CUB fever is hitting me again. I'm beginning to think they have a \\n>    chance this year. (what the heck am i thinking?)\\n>    Sorry. Just a moment of incompetence.\\n>    I'll be ok. Really. \\n>    Orin.\\n>    Bradley U.\\n> \\n> --\\n> I'm really a jester in disguise!                                   \\nI hear ya!  Then again, we must remember that we are indeed Cub fans, and\\nthat the Cubs will eventually blow it.  After all, the Cubs are the easiest\\nteam in the National League to root for.  No Pressure.  You know they will\\nlose eventually.  Oh well, I suppose we must have faith.  After all, they\\ndo look pretty good, and they don't even have Sandberg back yet.  \\n\\nCUBS IN '93!!!!!\\n\\nCHA\\n\""
       ]
      }
     ],
     "prompt_number": 6
    },
    {
     "cell_type": "code",
     "collapsed": false,
     "input": [
      "vectorizer = TfidfVectorizer(stop_words=stopset,\n",
      "use_idf=True, ngram_range=(1, 3))\n",
      "X = vectorizer.fit_transform(corpus)"
     ],
     "language": "python",
     "metadata": {},
     "outputs": [],
     "prompt_number": 7
    },
    {
     "cell_type": "code",
     "collapsed": false,
     "input": [
      "X[0]"
     ],
     "language": "python",
     "metadata": {},
     "outputs": [
      {
       "metadata": {},
       "output_type": "pyout",
       "prompt_number": 8,
       "text": [
        "<1x186800 sparse matrix of type '<type 'numpy.float64'>'\n",
        "\twith 221 stored elements in Compressed Sparse Row format>"
       ]
      }
     ],
     "prompt_number": 8
    },
    {
     "cell_type": "code",
     "collapsed": false,
     "input": [
      "print X[0]"
     ],
     "language": "python",
     "metadata": {},
     "outputs": [
      {
       "output_type": "stream",
       "stream": "stdout",
       "text": [
        "  (0, 186065)\t0.0747299695982\n",
        "  (0, 28232)\t0.0747299695982\n",
        "  (0, 143314)\t0.0747299695982\n",
        "  (0, 61566)\t0.0747299695982\n",
        "  (0, 75156)\t0.0747299695982\n",
        "  (0, 130496)\t0.0747299695982\n",
        "  (0, 100429)\t0.0747299695982\n",
        "  (0, 63958)\t0.0747299695982\n",
        "  (0, 111671)\t0.0747299695982\n",
        "  (0, 160228)\t0.0747299695982\n",
        "  (0, 178165)\t0.0747299695982\n",
        "  (0, 116867)\t0.0747299695982\n",
        "  (0, 61706)\t0.0747299695982\n",
        "  (0, 100921)\t0.0747299695982\n",
        "  (0, 92726)\t0.0747299695982\n",
        "  (0, 130411)\t0.0747299695982\n",
        "  (0, 140455)\t0.0747299695982\n",
        "  (0, 95352)\t0.0747299695982\n",
        "  (0, 112312)\t0.0747299695982\n",
        "  (0, 162625)\t0.0747299695982\n",
        "  (0, 58193)\t0.0747299695982\n",
        "  (0, 50294)\t0.0747299695982\n",
        "  (0, 35045)\t0.0747299695982\n",
        "  (0, 61692)\t0.0747299695982\n",
        "  (0, 50298)\t0.0747299695982\n",
        "  :\t:\n",
        "  (0, 81815)\t0.0348218484053\n",
        "  (0, 182590)\t0.0158176852838\n",
        "  (0, 140703)\t0.0561577584926\n",
        "  (0, 119552)\t0.112315516985\n",
        "  (0, 36848)\t0.100714291787\n",
        "  (0, 39901)\t0.10635166718\n",
        "  (0, 15831)\t0.0747299695982\n",
        "  (0, 92089)\t0.112315516985\n",
        "  (0, 25036)\t0.0163604976975\n",
        "  (0, 98059)\t0.010428042207\n",
        "  (0, 160817)\t0.0617446449965\n",
        "  (0, 46995)\t0.0394753738398\n",
        "  (0, 172451)\t0.0398267752334\n",
        "  (0, 111468)\t0.0617446449965\n",
        "  (0, 172486)\t0.0182503241502\n",
        "  (0, 155873)\t0.0378775483409\n",
        "  (0, 28754)\t0.0311468657819\n",
        "  (0, 118938)\t0.0104490247008\n",
        "  (0, 65505)\t0.126684940991\n",
        "  (0, 50177)\t0.163679798981\n",
        "  (0, 158730)\t0.0103653483765\n",
        "  (0, 38107)\t0.0513945458083\n",
        "  (0, 38128)\t0.0513945458083\n",
        "  (0, 96399)\t0.0503571458937\n",
        "  (0, 183524)\t0.0747299695982\n"
       ]
      }
     ],
     "prompt_number": 9
    },
    {
     "cell_type": "code",
     "collapsed": false,
     "input": [
      "X.shape"
     ],
     "language": "python",
     "metadata": {},
     "outputs": [
      {
       "metadata": {},
       "output_type": "pyout",
       "prompt_number": 10,
       "text": [
        "(994, 186800)"
       ]
      }
     ],
     "prompt_number": 10
    },
    {
     "cell_type": "code",
     "collapsed": false,
     "input": [
      "lsa = TruncatedSVD(n_components=27, n_iter=100)\n",
      "lsa.fit(X)"
     ],
     "language": "python",
     "metadata": {},
     "outputs": [
      {
       "metadata": {},
       "output_type": "pyout",
       "prompt_number": 11,
       "text": [
        "TruncatedSVD(algorithm='randomized', n_components=27, n_iter=100,\n",
        "       random_state=None, tol=0.0)"
       ]
      }
     ],
     "prompt_number": 11
    },
    {
     "cell_type": "code",
     "collapsed": false,
     "input": [
      "lsa.components_[0]"
     ],
     "language": "python",
     "metadata": {},
     "outputs": [
      {
       "metadata": {},
       "output_type": "pyout",
       "prompt_number": 12,
       "text": [
        "array([ 0.00058945,  0.00058945,  0.00058945, ...,  0.00111396,\n",
        "        0.00111396,  0.00111396])"
       ]
      }
     ],
     "prompt_number": 12
    },
    {
     "cell_type": "code",
     "collapsed": false,
     "input": [
      "terms = vectorizer.get_feature_names()\n",
      "for i, comp in enumerate(lsa.components_):\n",
      "    termsInComp = zip(terms, comp) \n",
      "    sortedTerms = sorted(termsInComp, key=lambda x: x[1], reverse=True) [:10]\n",
      "    print \"concept %d:\" % i\n",
      "    for term in sortedTerms:\n",
      "        print term[0]\n",
      "    print \"\""
     ],
     "language": "python",
     "metadata": {},
     "outputs": [
      {
       "output_type": "stream",
       "stream": "stdout",
       "text": [
        "concept 0:\n",
        "year\n",
        "team\n",
        "would\n",
        "game\n",
        "writes\n",
        "article\n",
        "baseball\n",
        "players\n",
        "games\n",
        "one\n",
        "\n",
        "concept 1:"
       ]
      },
      {
       "output_type": "stream",
       "stream": "stdout",
       "text": [
        "\n",
        "morris\n",
        "article\n",
        "think\n",
        "win\n",
        "team\n",
        "like\n",
        "time\n",
        "run\n",
        "mike\n",
        "one\n",
        "\n",
        "concept 2:"
       ]
      },
      {
       "output_type": "stream",
       "stream": "stdout",
       "text": [
        "\n",
        "clutch\n",
        "would\n",
        "players\n",
        "good\n",
        "baseball\n",
        "look\n",
        "year\n",
        "writes article\n",
        "jewish\n",
        "anyone\n",
        "\n",
        "concept 3:"
       ]
      },
      {
       "output_type": "stream",
       "stream": "stdout",
       "text": [
        "\n",
        "would\n",
        "good\n",
        "morris\n",
        "lines\n",
        "got\n",
        "hall\n",
        "fame\n",
        "baseball players\n",
        "well\n",
        "posting\n",
        "\n",
        "concept 4:"
       ]
      },
      {
       "output_type": "stream",
       "stream": "stdout",
       "text": [
        "\n",
        "would\n",
        "team\n",
        "david\n",
        "ball\n",
        "morris\n",
        "many\n",
        "league\n",
        "year\n",
        "hitting\n",
        "games\n",
        "\n",
        "concept 5:"
       ]
      },
      {
       "output_type": "stream",
       "stream": "stdout",
       "text": [
        "\n",
        "games\n",
        "roger\n",
        "university\n",
        "mike\n",
        "two\n",
        "lot\n",
        "article\n",
        "host\n",
        "well\n",
        "way\n",
        "\n",
        "concept 6:"
       ]
      },
      {
       "output_type": "stream",
       "stream": "stdout",
       "text": [
        "\n",
        "one\n",
        "hirschbeck\n",
        "braves\n",
        "last\n",
        "want\n",
        "left\n",
        "pitch\n",
        "way\n",
        "also\n",
        "major\n",
        "\n",
        "concept 7:"
       ]
      },
      {
       "output_type": "stream",
       "stream": "stdout",
       "text": [
        "\n",
        "team\n",
        "first\n",
        "braves\n",
        "pitching\n",
        "still\n",
        "win\n",
        "could\n",
        "good\n",
        "posting\n",
        "subject\n",
        "\n",
        "concept 8:"
       ]
      },
      {
       "output_type": "stream",
       "stream": "stdout",
       "text": [
        "\n",
        "game\n",
        "would\n",
        "go\n",
        "believe\n",
        "netcom\n",
        "hitting\n",
        "make\n",
        "come\n",
        "point\n",
        "roger\n",
        "\n",
        "concept 9:"
       ]
      },
      {
       "output_type": "stream",
       "stream": "stdout",
       "text": [
        "\n",
        "know\n",
        "good\n",
        "year\n",
        "would\n",
        "braves\n",
        "best\n",
        "want\n",
        "mike\n",
        "may\n",
        "really\n",
        "\n",
        "concept 10:"
       ]
      },
      {
       "output_type": "stream",
       "stream": "stdout",
       "text": [
        "\n",
        "games\n",
        "go\n",
        "baseball\n",
        "sox\n",
        "well\n",
        "even\n",
        "david\n",
        "three\n",
        "say\n",
        "something\n",
        "\n",
        "concept 11:"
       ]
      },
      {
       "output_type": "stream",
       "stream": "stdout",
       "text": [
        "\n",
        "game\n",
        "games\n",
        "one\n",
        "time\n",
        "first\n",
        "lot\n",
        "better\n",
        "league\n",
        "posting host\n",
        "though\n",
        "\n",
        "concept 12:"
       ]
      },
      {
       "output_type": "stream",
       "stream": "stdout",
       "text": [
        "\n",
        "good\n",
        "lines\n",
        "might\n",
        "left\n",
        "two\n",
        "league\n",
        "win\n",
        "many\n",
        "cornell\n",
        "batting\n",
        "\n",
        "concept 13:"
       ]
      },
      {
       "output_type": "stream",
       "stream": "stdout",
       "text": [
        "\n",
        "two\n",
        "game\n",
        "runs\n",
        "many\n",
        "average\n",
        "know\n",
        "writes\n",
        "maybe\n",
        "players\n",
        "better\n",
        "\n",
        "concept 14:"
       ]
      },
      {
       "output_type": "stream",
       "stream": "stdout",
       "text": [
        "\n",
        "university\n",
        "see\n",
        "game\n",
        "first\n",
        "still\n",
        "let\n",
        "much\n",
        "right\n",
        "posting\n",
        "could\n",
        "\n",
        "concept 15:"
       ]
      },
      {
       "output_type": "stream",
       "stream": "stdout",
       "text": [
        "\n",
        "game\n",
        "player\n",
        "baseball\n",
        "something\n",
        "last\n",
        "good\n",
        "ball\n",
        "host\n",
        "let\n",
        "say\n",
        "\n",
        "concept 16:"
       ]
      },
      {
       "output_type": "stream",
       "stream": "stdout",
       "text": [
        "\n",
        "university\n",
        "posting host\n",
        "organization university\n",
        "two\n",
        "may\n",
        "play\n",
        "one\n",
        "first\n",
        "might\n",
        "organization\n",
        "\n",
        "concept 17:"
       ]
      },
      {
       "output_type": "stream",
       "stream": "stdout",
       "text": [
        "\n",
        "good\n",
        "writes\n",
        "make\n",
        "people\n",
        "players\n",
        "runs\n",
        "best\n",
        "jewish\n",
        "run\n",
        "way\n",
        "\n",
        "concept 18:"
       ]
      },
      {
       "output_type": "stream",
       "stream": "stdout",
       "text": [
        "\n",
        "players\n",
        "team\n",
        "writes\n",
        "people\n",
        "hit\n",
        "posting host\n",
        "come\n",
        "lines\n",
        "player\n",
        "really\n",
        "\n",
        "concept 19:"
       ]
      },
      {
       "output_type": "stream",
       "stream": "stdout",
       "text": [
        "\n",
        "first\n",
        "best\n",
        "play\n",
        "roger\n",
        "many\n",
        "players\n",
        "know\n",
        "see\n",
        "hitting\n",
        "baseball\n",
        "\n",
        "concept 20:"
       ]
      },
      {
       "output_type": "stream",
       "stream": "stdout",
       "text": [
        "\n",
        "last\n",
        "baseball\n",
        "posting\n",
        "like\n",
        "posting host\n",
        "university\n",
        "would\n",
        "host\n",
        "batting\n",
        "david\n",
        "\n",
        "concept 21:"
       ]
      },
      {
       "output_type": "stream",
       "stream": "stdout",
       "text": [
        "\n",
        "get\n",
        "posting host\n",
        "subject\n",
        "still\n",
        "writes\n",
        "hit\n",
        "win\n",
        "braves\n",
        "much\n",
        "thanks\n",
        "\n",
        "concept 22:"
       ]
      },
      {
       "output_type": "stream",
       "stream": "stdout",
       "text": [
        "\n",
        "get\n",
        "game\n",
        "baseball\n",
        "first\n",
        "back\n",
        "time\n",
        "league\n",
        "least\n",
        "last\n",
        "year\n",
        "\n",
        "concept 23:"
       ]
      },
      {
       "output_type": "stream",
       "stream": "stdout",
       "text": [
        "\n",
        "team\n",
        "posting host\n",
        "organization\n",
        "writes\n",
        "think\n",
        "writes article\n",
        "league\n",
        "years\n",
        "batting\n",
        "lines\n",
        "\n",
        "concept 24:"
       ]
      },
      {
       "output_type": "stream",
       "stream": "stdout",
       "text": [
        "\n",
        "much\n",
        "university\n",
        "games\n",
        "team\n",
        "posting\n",
        "year\n",
        "last\n",
        "roger\n",
        "game\n",
        "players\n",
        "\n",
        "concept 25:"
       ]
      },
      {
       "output_type": "stream",
       "stream": "stdout",
       "text": [
        "\n",
        "like\n",
        "good\n",
        "organization\n",
        "hit\n",
        "much\n",
        "say\n",
        "lines\n",
        "know\n",
        "would\n",
        "year\n",
        "\n",
        "concept 26:"
       ]
      },
      {
       "output_type": "stream",
       "stream": "stdout",
       "text": [
        "\n",
        "host\n",
        "first\n",
        "one\n",
        "much\n",
        "team\n",
        "could\n",
        "michael\n",
        "also\n",
        "may\n",
        "baseball\n",
        "\n"
       ]
      }
     ],
     "prompt_number": 13
    },
    {
     "cell_type": "code",
     "collapsed": false,
     "input": [],
     "language": "python",
     "metadata": {},
     "outputs": []
    }
   ],
   "metadata": {}
  }
 ]
}