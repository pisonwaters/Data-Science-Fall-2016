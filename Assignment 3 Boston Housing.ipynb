{
 "metadata": {
  "name": "",
  "signature": "sha256:a50c45894372d6d0ca0abfe45aaa6c481bafee3cb65a717f31614589ec123df4"
 },
 "nbformat": 3,
 "nbformat_minor": 0,
 "worksheets": [
  {
   "cells": [
    {
     "cell_type": "code",
     "collapsed": false,
     "input": [
      "from sklearn import datasets\n",
      "import pandas as pd\n",
      "from sklearn.preprocessing import StandardScaler\n",
      "from sklearn.cross_validation import train_test_split\n",
      "from sklearn.metrics import mean_squared_error\n",
      "from sklearn.metrics import r2_score\n",
      "from sklearn.linear_model import LinearRegression\n",
      "from sklearn.linear_model import Lasso\n"
     ],
     "language": "python",
     "metadata": {},
     "outputs": [],
     "prompt_number": 1
    },
    {
     "cell_type": "code",
     "collapsed": false,
     "input": [
      "bean = datasets.load_boston()\n",
      "print bean.DESCR"
     ],
     "language": "python",
     "metadata": {},
     "outputs": [
      {
       "output_type": "stream",
       "stream": "stdout",
       "text": [
        "Boston House Prices dataset\n",
        "\n",
        "Notes\n",
        "------\n",
        "Data Set Characteristics:  \n",
        "\n",
        "    :Number of Instances: 506 \n",
        "\n",
        "    :Number of Attributes: 13 numeric/categorical predictive\n",
        "    \n",
        "    :Median Value (attribute 14) is usually the target\n",
        "\n",
        "    :Attribute Information (in order):\n",
        "        - CRIM     per capita crime rate by town\n",
        "        - ZN       proportion of residential land zoned for lots over 25,000 sq.ft.\n",
        "        - INDUS    proportion of non-retail business acres per town\n",
        "        - CHAS     Charles River dummy variable (= 1 if tract bounds river; 0 otherwise)\n",
        "        - NOX      nitric oxides concentration (parts per 10 million)\n",
        "        - RM       average number of rooms per dwelling\n",
        "        - AGE      proportion of owner-occupied units built prior to 1940\n",
        "        - DIS      weighted distances to five Boston employment centres\n",
        "        - RAD      index of accessibility to radial highways\n",
        "        - TAX      full-value property-tax rate per $10,000\n",
        "        - PTRATIO  pupil-teacher ratio by town\n",
        "        - B        1000(Bk - 0.63)^2 where Bk is the proportion of blacks by town\n",
        "        - LSTAT    % lower status of the population\n",
        "        - MEDV     Median value of owner-occupied homes in $1000's\n",
        "\n",
        "    :Missing Attribute Values: None\n",
        "\n",
        "    :Creator: Harrison, D. and Rubinfeld, D.L.\n",
        "\n",
        "This is a copy of UCI ML housing dataset.\n",
        "http://archive.ics.uci.edu/ml/datasets/Housing\n",
        "\n",
        "\n",
        "This dataset was taken from the StatLib library which is maintained at Carnegie Mellon University.\n",
        "\n",
        "The Boston house-price data of Harrison, D. and Rubinfeld, D.L. 'Hedonic\n",
        "prices and the demand for clean air', J. Environ. Economics & Management,\n",
        "vol.5, 81-102, 1978.   Used in Belsley, Kuh & Welsch, 'Regression diagnostics\n",
        "...', Wiley, 1980.   N.B. Various transformations are used in the table on\n",
        "pages 244-261 of the latter.\n",
        "\n",
        "The Boston house-price data has been used in many machine learning papers that address regression\n",
        "problems.   \n",
        "     \n",
        "**References**\n",
        "\n",
        "   - Belsley, Kuh & Welsch, 'Regression diagnostics: Identifying Influential Data and Sources of Collinearity', Wiley, 1980. 244-261.\n",
        "   - Quinlan,R. (1993). Combining Instance-Based and Model-Based Learning. In Proceedings on the Tenth International Conference of Machine Learning, 236-243, University of Massachusetts, Amherst. Morgan Kaufmann.\n",
        "   - many more! (see http://archive.ics.uci.edu/ml/datasets/Housing)\n",
        "\n"
       ]
      }
     ],
     "prompt_number": 2
    },
    {
     "cell_type": "code",
     "collapsed": false,
     "input": [
      "def load_boston():\n",
      "    scaler = StandardScaler()\n",
      "    boston = datasets.load_boston()\n",
      "    X=boston.data\n",
      "    y=boston.target\n",
      "    X = scaler.fit_transform(X)\n",
      "    return train_test_split(X,y)"
     ],
     "language": "python",
     "metadata": {},
     "outputs": [],
     "prompt_number": 3
    },
    {
     "cell_type": "code",
     "collapsed": false,
     "input": [
      "X_train, X_test, y_train, y_test = load_boston()"
     ],
     "language": "python",
     "metadata": {},
     "outputs": [],
     "prompt_number": 4
    },
    {
     "cell_type": "code",
     "collapsed": false,
     "input": [
      "X_train.shape"
     ],
     "language": "python",
     "metadata": {},
     "outputs": [
      {
       "metadata": {},
       "output_type": "pyout",
       "prompt_number": 5,
       "text": [
        "(379, 13)"
       ]
      }
     ],
     "prompt_number": 5
    },
    {
     "cell_type": "code",
     "collapsed": false,
     "input": [
      "clf = LinearRegression()\n",
      "clf.fit(X_train, y_train)"
     ],
     "language": "python",
     "metadata": {},
     "outputs": [
      {
       "metadata": {},
       "output_type": "pyout",
       "prompt_number": 6,
       "text": [
        "LinearRegression(copy_X=True, fit_intercept=True, normalize=False)"
       ]
      }
     ],
     "prompt_number": 6
    },
    {
     "cell_type": "code",
     "collapsed": false,
     "input": [
      "zip (y_test, clf.predict(X_test))"
     ],
     "language": "python",
     "metadata": {},
     "outputs": [
      {
       "metadata": {},
       "output_type": "pyout",
       "prompt_number": 7,
       "text": [
        "[(19.399999999999999, 23.013377835150457),\n",
        " (23.899999999999999, 27.317530107532612),\n",
        " (22.0, 25.860201150218924),\n",
        " (21.800000000000001, 20.263115322400221),\n",
        " (33.200000000000003, 32.446763381524008),\n",
        " (43.799999999999997, 35.437659795775659),\n",
        " (24.800000000000001, 30.990160029023961),\n",
        " (23.399999999999999, 24.464739973301221),\n",
        " (24.300000000000001, 24.374653722026554),\n",
        " (32.899999999999999, 30.914917499830413),\n",
        " (23.0, 30.06977895542088),\n",
        " (14.800000000000001, 15.273749668871215),\n",
        " (19.600000000000001, 17.741001169417011),\n",
        " (28.600000000000001, 28.879547386824562),\n",
        " (18.199999999999999, 14.839208958407688),\n",
        " (34.899999999999999, 30.279347961505145),\n",
        " (26.699999999999999, 33.556367272851595),\n",
        " (12.300000000000001, 12.413639770897209),\n",
        " (23.199999999999999, 27.217954480499294),\n",
        " (12.699999999999999, 12.050166738174385),\n",
        " (24.800000000000001, 27.464999195132926),\n",
        " (13.800000000000001, 15.56526495279973),\n",
        " (15.0, 24.768829353106664),\n",
        " (35.399999999999999, 31.695437365007685),\n",
        " (21.399999999999999, 21.013295780807081),\n",
        " (14.9, 15.803325363391757),\n",
        " (24.399999999999999, 24.627446100983338),\n",
        " (24.699999999999999, 25.13707584929826),\n",
        " (20.399999999999999, 19.497877444072913),\n",
        " (10.9, 14.621242629115155),\n",
        " (13.800000000000001, 0.61146053865995498),\n",
        " (19.800000000000001, 21.941221746031317),\n",
        " (22.800000000000001, 28.260467570350134),\n",
        " (23.300000000000001, 22.123680648053973),\n",
        " (15.6, 12.316954769416034),\n",
        " (23.800000000000001, 23.098849680937796),\n",
        " (5.5999999999999996, 11.846364662164985),\n",
        " (19.600000000000001, 19.054892613073971),\n",
        " (29.600000000000001, 24.963077641053594),\n",
        " (17.5, 18.13992535976897),\n",
        " (8.8000000000000007, 7.5128316723483266),\n",
        " (9.5, 13.556093675276811),\n",
        " (23.0, 23.888217736219616),\n",
        " (21.100000000000001, 22.573803446119509),\n",
        " (24.399999999999999, 28.500124195024149),\n",
        " (20.199999999999999, 16.421537611556399),\n",
        " (37.299999999999997, 34.315205434240568),\n",
        " (22.899999999999999, 23.219295585939051),\n",
        " (37.899999999999999, 33.675877805506666),\n",
        " (36.0, 36.173344504355498),\n",
        " (10.800000000000001, 11.464938541198906),\n",
        " (50.0, 23.629828057074221),\n",
        " (19.399999999999999, 17.809557599094589),\n",
        " (10.199999999999999, 6.1391041250441063),\n",
        " (21.0, 21.132315961475705),\n",
        " (22.899999999999999, 25.09998537242662),\n",
        " (22.199999999999999, 24.112686818615973),\n",
        " (11.699999999999999, 14.694843110531679),\n",
        " (31.600000000000001, 33.214688694128256),\n",
        " (10.199999999999999, 16.414939233044983),\n",
        " (21.699999999999999, 22.359315251016017),\n",
        " (15.6, 15.948752407599073),\n",
        " (17.199999999999999, 13.373628687042572),\n",
        " (11.800000000000001, 8.8587483308707906),\n",
        " (22.399999999999999, 23.563964464537314),\n",
        " (23.100000000000001, 25.561368928878927),\n",
        " (22.0, 27.277872799707872),\n",
        " (19.300000000000001, 21.384912305047646),\n",
        " (15.1, 16.232472241143569),\n",
        " (37.0, 31.021247517494242),\n",
        " (21.699999999999999, 23.161426120314015),\n",
        " (20.399999999999999, 22.856518963876521),\n",
        " (15.6, 21.199097671443582),\n",
        " (20.800000000000001, 17.708871150869673),\n",
        " (50.0, 31.633935725229431),\n",
        " (18.699999999999999, 20.560492528890162),\n",
        " (15.199999999999999, 11.260012857860145),\n",
        " (23.300000000000001, 28.672774796477565),\n",
        " (28.699999999999999, 30.877159337097172),\n",
        " (24.600000000000001, 24.934659891601637),\n",
        " (19.199999999999999, 23.196073826798266),\n",
        " (23.800000000000001, 24.930513741754829),\n",
        " (21.399999999999999, 24.785278184556862),\n",
        " (13.4, 13.69718371249137),\n",
        " (14.5, 14.130001272200992),\n",
        " (44.799999999999997, 38.383844239811346),\n",
        " (22.600000000000001, 26.150067328890131),\n",
        " (18.699999999999999, 18.164495543908764),\n",
        " (22.199999999999999, 22.501352491091115),\n",
        " (24.5, 20.495506438667999),\n",
        " (23.699999999999999, 28.707368860684866),\n",
        " (35.100000000000001, 35.332349019414153),\n",
        " (31.600000000000001, 32.243650340809189),\n",
        " (50.0, 36.91619190244441),\n",
        " (48.799999999999997, 41.025567168749475),\n",
        " (18.899999999999999, 21.864397323325129),\n",
        " (16.5, 12.613345578713567),\n",
        " (13.6, 13.329622056585306),\n",
        " (32.0, 33.162888026708657),\n",
        " (25.100000000000001, 30.627484491883273),\n",
        " (28.5, 33.232530950927107),\n",
        " (11.300000000000001, 12.754290724299544),\n",
        " (23.899999999999999, 27.029484526886563),\n",
        " (8.3000000000000007, 12.326104306068011),\n",
        " (20.399999999999999, 20.246299185513855),\n",
        " (23.199999999999999, 25.58064713862975),\n",
        " (19.899999999999999, 19.466454822526572),\n",
        " (17.800000000000001, 19.513777723706689),\n",
        " (43.5, 39.154488024186762),\n",
        " (22.699999999999999, 24.307859431941552),\n",
        " (20.800000000000001, 23.372885354779921),\n",
        " (24.100000000000001, 29.181265252370245),\n",
        " (22.0, 27.811186618767263),\n",
        " (17.399999999999999, 22.460532117282835),\n",
        " (50.0, 21.594964132827656),\n",
        " (23.5, 30.250170979861881),\n",
        " (20.300000000000001, 22.373673835104469),\n",
        " (23.100000000000001, 17.077359495495486),\n",
        " (19.300000000000001, 20.091749048622425),\n",
        " (18.300000000000001, 18.899839992451621),\n",
        " (14.6, 18.565388108761518),\n",
        " (25.0, 28.078181630885521),\n",
        " (26.5, 25.344754891291892),\n",
        " (20.600000000000001, 22.350436657676987),\n",
        " (7.5, 14.246759307742408),\n",
        " (19.199999999999999, 19.705242883673819),\n",
        " (21.199999999999999, 23.374843370751673)]"
       ]
      }
     ],
     "prompt_number": 7
    },
    {
     "cell_type": "code",
     "collapsed": false,
     "input": [
      "r2_score(y_test, clf.predict(X_test))"
     ],
     "language": "python",
     "metadata": {},
     "outputs": [
      {
       "metadata": {},
       "output_type": "pyout",
       "prompt_number": 8,
       "text": [
        "0.65276740287091573"
       ]
      }
     ],
     "prompt_number": 8
    },
    {
     "cell_type": "code",
     "collapsed": false,
     "input": [
      "mean_squared_error(y_test, clf.predict(X_test))"
     ],
     "language": "python",
     "metadata": {},
     "outputs": [
      {
       "metadata": {},
       "output_type": "pyout",
       "prompt_number": 9,
       "text": [
        "28.932014608973162"
       ]
      }
     ],
     "prompt_number": 9
    },
    {
     "cell_type": "code",
     "collapsed": false,
     "input": [
      "alpha = 0.1\n",
      "lasso = Lasso(alpha=alpha)\n",
      "\n",
      "y_pred_lasso = lasso.fit(X_train, y_train).predict(X_test)\n",
      "r2_score_lasso = r2_score(y_test, y_pred_lasso)\n",
      "print(lasso)\n",
      "print(\"r^2 on test data : %f\" % r2_score_lasso)"
     ],
     "language": "python",
     "metadata": {},
     "outputs": [
      {
       "output_type": "stream",
       "stream": "stdout",
       "text": [
        "Lasso(alpha=0.1, copy_X=True, fit_intercept=True, max_iter=1000,\n",
        "   normalize=False, positive=False, precompute='auto', tol=0.0001,\n",
        "   warm_start=False)\n",
        "r^2 on test data : 0.639120\n"
       ]
      }
     ],
     "prompt_number": 10
    },
    {
     "cell_type": "code",
     "collapsed": false,
     "input": [],
     "language": "python",
     "metadata": {},
     "outputs": []
    }
   ],
   "metadata": {}
  }
 ]
}